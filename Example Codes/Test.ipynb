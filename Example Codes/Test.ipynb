{
 "cells": [
  {
   "cell_type": "code",
   "execution_count": 2,
   "metadata": {},
   "outputs": [],
   "source": [
    "import requests\n",
    "import spotipy\n",
    "from requests.auth import HTTPBasicAuth\n",
    "import numpy as np\n",
    "import pandas as pd\n",
    "import matplotlib.pyplot as plt\n",
    "from pprint import pprint"
   ]
  },
  {
   "cell_type": "code",
   "execution_count": 3,
   "metadata": {},
   "outputs": [],
   "source": [
    "from client import client_id, client_secret"
   ]
  },
  {
   "cell_type": "code",
   "execution_count": 4,
   "metadata": {},
   "outputs": [],
   "source": [
    "top_US_artist_df = pd.read_csv(\"Top Country CSV/top50us.csv\")"
   ]
  },
  {
   "cell_type": "code",
   "execution_count": 5,
   "metadata": {},
   "outputs": [],
   "source": [
    "token_url = \"https://accounts.spotify.com/api/token\"\n",
    "headers = {'content-type': 'application/x-www-form-urlencoded'}\n",
    "\n",
    "token_params = {\"grant_type\" : \"client_credentials\"}\n",
    "\n",
    "token_json = requests.post(token_url, params = token_params, headers = headers, auth = (client_id, client_secret)).json()\n",
    "token = token_json['access_token']"
   ]
  },
  {
   "cell_type": "code",
   "execution_count": 6,
   "metadata": {},
   "outputs": [],
   "source": [
    "token_headers = {'authorization': f\"Bearer {token}\"}\n",
    "\n",
    "artist_name_list = []\n",
    "artist_id_list = []\n",
    "artist_followers_list = []\n",
    "genre_list = []\n",
    "genre_popularity = []\n",
    "\n",
    "search_url = \"https://api.spotify.com/v1/artists/\"\n",
    "\n",
    "# print(\"----------------------\\nRetrieving Artist ID\\n----------------------\")\n",
    "\n",
    "for artist_id in top_US_artist_df[\"artist id\"]:\n",
    "    track_url = search_url + artist_id\n",
    "    \n",
    "    try:\n",
    "        artist_json = requests.get(track_url, headers = token_headers).json()\n",
    "        \n",
    "        artist_id = artist_json[\"id\"]\n",
    "        artist_name = artist_json[\"name\"]\n",
    "        artist_follower = artist_json[\"followers\"][\"total\"]\n",
    "        genres = artist_json[\"genres\"]\n",
    "        \n",
    "        if artist_id not in artist_id_list:\n",
    "            artist_id_list.append(artist_id)\n",
    "            artist_name_list.append(artist_name)\n",
    "            artist_followers_list.append(artist_follower)\n",
    "            \n",
    "            for genre in genres:\n",
    "            \n",
    "                if \"rock\" in genre:       \n",
    "                    if \"rock\" not in genre_list:\n",
    "                        genre_list.append(\"rock\")\n",
    "                        genre_popularity.append(1)\n",
    "                    \n",
    "                    else:\n",
    "                        genre_popularity[genre_list.index(\"rock\")] += 1\n",
    "                    \n",
    "                elif \"trap\" in genre:\n",
    "                    if \"hip hop\" not in genre_list:\n",
    "                        genre_list.append(\"hip hop\")\n",
    "                        genre_popularity.append(1)\n",
    "                    \n",
    "                    else:\n",
    "                        genre_popularity[genre_list.index(\"hip hop\")] += 1\n",
    "                    \n",
    "                    \n",
    "                elif \"pop\" in genre:\n",
    "                    if \"pop\" not in genre_list:\n",
    "                        genre_list.append(\"pop\")\n",
    "                        genre_popularity.append(1)\n",
    "                        \n",
    "                    else:\n",
    "                        genre_popularity[genre_list.index(\"pop\")] += 1\n",
    "                    \n",
    "            \n",
    "                elif \"rap\" in genre:\n",
    "                    if \"rap\" not in genre_list:\n",
    "                        genre_list.append(\"rap\")\n",
    "                        genre_popularity.append(1)\n",
    "                    \n",
    "                    else:\n",
    "                        genre_popularity[genre_list.index(\"rap\")] += 1\n",
    "                    \n",
    "                \n",
    "                elif \"house\" in genre:\n",
    "                    if \"edm\" not in genre_list:\n",
    "                        genre_list.append(\"edm\")\n",
    "                        genre_popularity.append(1)\n",
    "                    \n",
    "                    else:\n",
    "                        genre_popularity[genre_list.index(\"edm\")] += 1\n",
    "                    \n",
    "                \n",
    "                elif \"hip hop\" in genre:\n",
    "                    if \"hip hop\" not in genre_list:\n",
    "                        genre_list.append(\"hip hop\")\n",
    "                        genre_popularity.append(1)\n",
    "                    \n",
    "                    else:\n",
    "                        genre_popularity[genre_list.index(\"hip hop\")] += 1\n",
    "                    \n",
    "                \n",
    "                else:\n",
    "                    if genre not in genre_list:\n",
    "                        genre_list.append(genre)\n",
    "                        genre_popularity.append(1)\n",
    "                        \n",
    "                    else:\n",
    "                        genre_popularity[genre_list.index(genre)] += 1\n",
    "            \n",
    "#             print(f\"Artist ID Found | {artist_id} | {artist_name}\")\n",
    "            \n",
    "                \n",
    "#             print(\"Artist ID in list already\")\n",
    "        else:\n",
    "            pass\n",
    "    \n",
    "        \n",
    "    except IndexError:\n",
    "        print(\"Could Not Find Artist ID\")"
   ]
  },
  {
   "cell_type": "code",
   "execution_count": 7,
   "metadata": {},
   "outputs": [
    {
     "data": {
      "text/plain": [
       "['pop',\n",
       " 'hip hop',\n",
       " 'rap',\n",
       " 'brostep',\n",
       " 'edm',\n",
       " 'r&b',\n",
       " 'neo mellow',\n",
       " 'rock',\n",
       " 'singer-songwriter']"
      ]
     },
     "execution_count": 7,
     "metadata": {},
     "output_type": "execute_result"
    }
   ],
   "source": [
    "genre_list"
   ]
  },
  {
   "cell_type": "code",
   "execution_count": 8,
   "metadata": {},
   "outputs": [
    {
     "data": {
      "text/plain": [
       "[43, 35, 24, 1, 2, 1, 1, 1, 1]"
      ]
     },
     "execution_count": 8,
     "metadata": {},
     "output_type": "execute_result"
    }
   ],
   "source": [
    "genre_popularity"
   ]
  },
  {
   "cell_type": "code",
   "execution_count": 9,
   "metadata": {},
   "outputs": [],
   "source": [
    "##Generating Dictionary###\n",
    "\n",
    "token_headers = {'authorization': f\"Bearer {token}\"}\n",
    "\n",
    "genre_list = []\n",
    "genre_popularity = []\n",
    "\n",
    "search_url = \"https://api.spotify.com/v1/artists/\"\n",
    "\n",
    "pop = []\n",
    "rap = []\n",
    "hip_hop = []\n",
    "edm = []\n",
    "rock = []\n",
    "rest_of_genre = []\n",
    "\n",
    "for artist_id in top_US_artist_df[\"artist id\"]:\n",
    "    track_url = search_url + artist_id\n",
    "    \n",
    "    try:\n",
    "        artist_json = requests.get(track_url, headers = token_headers).json()\n",
    "        \n",
    "        genres = artist_json[\"genres\"]\n",
    "        \n",
    "        for genre in genres:\n",
    "            \n",
    "            if \"rock\" in genre:\n",
    "                if genre not in rock:\n",
    "                    rock.append(genre)\n",
    "                    \n",
    "            elif \"pop\" in genre:\n",
    "                if genre not in pop:\n",
    "                    pop.append(genre)\n",
    "            \n",
    "            elif \"trap\" in genre:\n",
    "                if genre not in hip_hop:\n",
    "                    hip_hop.append(genre)\n",
    "            \n",
    "            elif \"rap\" in genre:\n",
    "                if genre not in rap:\n",
    "                    rap.append(genre)\n",
    "                \n",
    "            elif \"house\" in genre:\n",
    "                if genre not in edm:\n",
    "                    edm.append(genre)         \n",
    "                \n",
    "            elif \"hip hop\" in genre:\n",
    "                if genre not in hip_hop:\n",
    "                    hip_hop.append(genre)\n",
    "                \n",
    "            else:\n",
    "                if genre not in rest_of_genre:\n",
    "                    rest_of_genre.append(genre)\n",
    "            \n",
    "            \n",
    "        \n",
    "    except IndexError:\n",
    "        print(\"Something went wrong!\")\n",
    "        \n",
    "genre_dict = {\n",
    "    \"pop\" : pop,\n",
    "    \"rap\" : rap,\n",
    "    \"edm\" : edm,\n",
    "    \"hip hop\" : hip_hop,\n",
    "    \"rock\" : rock,\n",
    "    \"other genre\" : rest_of_genre\n",
    "}"
   ]
  },
  {
   "cell_type": "code",
   "execution_count": 10,
   "metadata": {},
   "outputs": [
    {
     "data": {
      "text/plain": [
       "{'pop': ['dance pop',\n",
       "  'pop',\n",
       "  'post-teen pop',\n",
       "  'pop rap',\n",
       "  'electropop',\n",
       "  'etherpop',\n",
       "  'indie poptimism',\n",
       "  'egyptian pop'],\n",
       " 'rap': ['rap',\n",
       "  'chicago rap',\n",
       "  'philly rap',\n",
       "  'cali rap',\n",
       "  'emo rap',\n",
       "  'dirty south rap'],\n",
       " 'edm': ['progressive electro house', 'tropical house'],\n",
       " 'hip hop': ['conscious hip hop',\n",
       "  'nc hip hop',\n",
       "  'trap music',\n",
       "  'hip hop',\n",
       "  'atl hip hop',\n",
       "  'atl trap',\n",
       "  'southern hip hop',\n",
       "  'miami hip hop',\n",
       "  'underground hip hop',\n",
       "  'vapor trap'],\n",
       " 'rock': ['pop rock'],\n",
       " 'other genre': ['brostep', 'r&b', 'neo mellow', 'singer-songwriter']}"
      ]
     },
     "execution_count": 10,
     "metadata": {},
     "output_type": "execute_result"
    }
   ],
   "source": [
    "genre_dict"
   ]
  },
  {
   "cell_type": "code",
   "execution_count": 17,
   "metadata": {},
   "outputs": [],
   "source": [
    "# top50 = pd.read_excel(\"Top Country CSV/Top_50_by_Country.xlsm\")"
   ]
  },
  {
   "cell_type": "code",
   "execution_count": null,
   "metadata": {},
   "outputs": [],
   "source": []
  }
 ],
 "metadata": {
  "kernelspec": {
   "display_name": "Python 3",
   "language": "python",
   "name": "python3"
  },
  "language_info": {
   "codemirror_mode": {
    "name": "ipython",
    "version": 3
   },
   "file_extension": ".py",
   "mimetype": "text/x-python",
   "name": "python",
   "nbconvert_exporter": "python",
   "pygments_lexer": "ipython3",
   "version": "3.6.5"
  }
 },
 "nbformat": 4,
 "nbformat_minor": 2
}
