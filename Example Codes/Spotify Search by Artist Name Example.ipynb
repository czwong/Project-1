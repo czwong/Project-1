{
 "cells": [
  {
   "cell_type": "code",
   "execution_count": 1,
   "metadata": {},
   "outputs": [],
   "source": [
    "###ARTIST EXAMPLE###\n",
    "# artist_url = \"https://api.spotify.com/v1/artists/\"\n",
    "\n",
    "# pprint(requests.get(artist_url + \"66CXWjxzNUsdJxJ2JdwvnR\", headers = token_headers).json())"
   ]
  },
  {
   "cell_type": "code",
   "execution_count": 2,
   "metadata": {},
   "outputs": [],
   "source": [
    "###TRACKS EXAMPLE###\n",
    "# track_url = \"https://api.spotify.com/v1/tracks/\"\n",
    "\n",
    "# pprint(requests.get(track_url + \"6ocbgoVGwYJhOv1GgI9NsF\", headers = token_headers).json())"
   ]
  },
  {
   "cell_type": "code",
   "execution_count": 3,
   "metadata": {},
   "outputs": [],
   "source": [
    "###PLAYLIST EXAMPLE###\n",
    "# playlist_id = \"37i9dQZEVXbLRQDuF5jeBp\"\n",
    "\n",
    "# pprint(requests.get(f\"https://api.spotify.com/v1/playlists/{playlist_id}\", headers = token_headers).json())"
   ]
  },
  {
   "cell_type": "code",
   "execution_count": 4,
   "metadata": {},
   "outputs": [],
   "source": [
    "import requests\n",
    "import spotipy\n",
    "from requests.auth import HTTPBasicAuth\n",
    "import numpy as np\n",
    "import pandas as pd\n",
    "import matplotlib.pyplot as plt\n",
    "from pprint import pprint"
   ]
  },
  {
   "cell_type": "code",
   "execution_count": 5,
   "metadata": {},
   "outputs": [],
   "source": [
    "from client import client_id, client_secret"
   ]
  },
  {
   "cell_type": "code",
   "execution_count": null,
   "metadata": {},
   "outputs": [],
   "source": [
    "token_url = \"https://accounts.spotify.com/api/token\"\n",
    "headers = {'content-type': 'application/x-www-form-urlencoded'}\n",
    "\n",
    "token_params = {\"grant_type\" : \"client_credentials\"}\n",
    "\n",
    "token_json = requests.post(token_url, params = token_params, headers = headers, auth = (client_id, client_secret)).json()\n",
    "token = token_json['access_token']"
   ]
  },
  {
   "cell_type": "code",
   "execution_count": null,
   "metadata": {},
   "outputs": [],
   "source": [
    "token_headers = {'authorization': f\"Bearer {token}\"}\n",
    "\n",
    "artist_name_list = []\n",
    "artist_id_list = []\n",
    "artist_followers_list = []\n",
    "genre_list = []\n",
    "genre_popularity = []\n",
    "\n",
    "search_url = \"https://api.spotify.com/v1/search\"\n",
    "\n",
    "print(\"----------------------\\nRetrieving Artist ID\\n----------------------\")\n",
    "\n",
    "for artist in top_artist_df[\"artists\"]:\n",
    "    search_param = {\"q\" : artist,\n",
    "                   \"type\" : \"artist\",\n",
    "                   \"limit\" : 1}\n",
    "    \n",
    "    try:\n",
    "        artist_json = requests.get(search_url, params = search_param, headers = token_headers).json()\n",
    "        artist_id = artist_json[\"artists\"][\"items\"][0][\"id\"]\n",
    "        artist_name = artist_json[\"artists\"][\"items\"][0][\"name\"]\n",
    "        artist_follower = artist_json[\"artists\"][\"items\"][0][\"followers\"][\"total\"]\n",
    "        genres = artist_json[\"artists\"][\"items\"][0][\"genres\"]\n",
    "        \n",
    "        if artist_id not in artist_id_list:\n",
    "            artist_id_list.append(artist_id)\n",
    "            artist_name_list.append(artist_name)\n",
    "            artist_followers_list.append(artist_follower)\n",
    "            \n",
    "            for genre in genres:\n",
    "                if genre not in genre_list:\n",
    "                    genre_list.append(genre)\n",
    "                    genre_popularity.append(1)\n",
    "                    \n",
    "                else:\n",
    "                    genre_popularity[genre_list.index(genre)] += 1\n",
    "                \n",
    "            print(f\"Artist ID Found | {artist_id} | {artist_name}\")\n",
    "            \n",
    "        else:   \n",
    "            print(\"Artist ID in list already\")\n",
    "        \n",
    "    except IndexError:\n",
    "        print(\"Could Not Find Artist ID\")"
   ]
  },
  {
   "cell_type": "code",
   "execution_count": null,
   "metadata": {},
   "outputs": [],
   "source": [
    "genre_popularity_df = pd.DataFrame({\n",
    "    \"Genre\" : genre_list,\n",
    "    \"Genre Count\" : genre_popularity\n",
    "})\n",
    "\n",
    "genre_popularity_df[\"Genre by Artist Percentage\"] = (genre_popularity_df[\"Genre Count\"]/len(artist_name_list)) * 100\n",
    "\n",
    "genre_popularity_df = genre_popularity_df.sort_values(by = \"Genre by Artist Percentage\", ascending = False).head(15).reset_index()\n",
    "\n",
    "genre_popularity_df"
   ]
  },
  {
   "cell_type": "code",
   "execution_count": null,
   "metadata": {},
   "outputs": [],
   "source": [
    "fig, ax = plt.subplots(figsize = (40,15))\n",
    "x_axis = np.arange(15)\n",
    "\n",
    "ax.bar(x_axis, genre_popularity_df[\"Genre by Artist Percentage\"])\n",
    "plt.xticks(x_axis, genre_popularity_df[\"Genre\"], Fontsize = 15)\n",
    "plt.ylabel(\"Percentage of Artist Genre (%)\", Fontsize = 20)\n",
    "plt.title(\"Top 50 Artists by Genre 2018\", Fontsize = 30)\n",
    "plt.text(max(x_axis) + 1.3, 60, \"Note:\\nArtists may have multiple genres.\", Fontsize = 20)\n",
    "\n",
    "rects = ax.patches\n",
    "\n",
    "for rect in rects:\n",
    "    height = rect.get_height()\n",
    "    width = rect.get_x() + 0.4\n",
    "    if height > 0:\n",
    "        ax.text(width, height, f'{round(height,2)}%', Fontsize = 20, ha = 'center', va = 'bottom')\n",
    "    else:\n",
    "         ax.text(width, height, f'{round(height,2)}%', Fontsize = 20, ha = 'center', va = 'top')\n",
    "\n",
    "plt.show()"
   ]
  },
  {
   "cell_type": "code",
   "execution_count": null,
   "metadata": {},
   "outputs": [],
   "source": []
  }
 ],
 "metadata": {
  "kernelspec": {
   "display_name": "Python 3",
   "language": "python",
   "name": "python3"
  },
  "language_info": {
   "codemirror_mode": {
    "name": "ipython",
    "version": 3
   },
   "file_extension": ".py",
   "mimetype": "text/x-python",
   "name": "python",
   "nbconvert_exporter": "python",
   "pygments_lexer": "ipython3",
   "version": "3.6.5"
  }
 },
 "nbformat": 4,
 "nbformat_minor": 2
}
