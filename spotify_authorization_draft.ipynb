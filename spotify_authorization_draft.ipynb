{
 "cells": [
  {
   "cell_type": "code",
   "execution_count": 2,
   "metadata": {},
   "outputs": [
    {
     "name": "stdout",
     "output_type": "stream",
     "text": [
      "{'access_token': 'BQCaF-OYxX0JcF_Ed27sSANI4dxitTI07eJCiqfKHabOqzYxFYfsb6nnvRh7ynGgbE_tErP3x2dABr8ipv0', 'token_type': 'Bearer', 'expires_in': 3600, 'scope': ''}\n",
      "BQCaF-OYxX0JcF_Ed27sSANI4dxitTI07eJCiqfKHabOqzYxFYfsb6nnvRh7ynGgbE_tErP3x2dABr8ipv0\n",
      "<Response [200]>\n",
      "{'external_urls': {'spotify': 'https://open.spotify.com/artist/0OdUWJ0sBjDrqHygGUXeCF'},\n",
      " 'followers': {'href': None, 'total': 689710},\n",
      " 'genres': ['folk-pop',\n",
      "            'indie folk',\n",
      "            'indie pop',\n",
      "            'indie rock',\n",
      "            'modern rock',\n",
      "            'stomp and holler'],\n",
      " 'href': 'https://api.spotify.com/v1/artists/0OdUWJ0sBjDrqHygGUXeCF',\n",
      " 'id': '0OdUWJ0sBjDrqHygGUXeCF',\n",
      " 'images': [{'height': 640,\n",
      "             'url': 'https://i.scdn.co/image/0f9a5013134de288af7d49a962417f4200539b47',\n",
      "             'width': 640},\n",
      "            {'height': 320,\n",
      "             'url': 'https://i.scdn.co/image/8ae35be1043f330173de198c35a49161337e829c',\n",
      "             'width': 320},\n",
      "            {'height': 160,\n",
      "             'url': 'https://i.scdn.co/image/602dd7b3a2ee3f3fd86c6c4f50ab9b5a82e23c59',\n",
      "             'width': 160}],\n",
      " 'name': 'Band of Horses',\n",
      " 'popularity': 64,\n",
      " 'type': 'artist',\n",
      " 'uri': 'spotify:artist:0OdUWJ0sBjDrqHygGUXeCF'}\n"
     ]
    }
   ],
   "source": [
    "import requests\n",
    "from requests.auth import HTTPBasicAuth\n",
    "from pprint import pprint\n",
    "\n",
    "client_id = \"9bea89b7a5bd4a3f9ae8202c4937f99d\"\n",
    "client_secret = \"f096b0c6bd974762ba419080a084f6cb\"\n",
    "\n",
    "\n",
    "\n",
    "url = \"https://accounts.spotify.com/api/token?grant_type=client_credentials\"\n",
    "headers = {'content-type': 'application/x-www-form-urlencoded'}\n",
    "\n",
    "try:\n",
    "   response = requests.post(url, headers=headers, auth=(client_id, client_secret))\n",
    "   json = response.json()\n",
    "   print(json)\n",
    "   access_token = json[\"access_token\"]\n",
    "   print(access_token)\n",
    "except:\n",
    "   print(\"Something went wrong with the request\")\n",
    "\n",
    "\n",
    "# https://api.spotify.com/v1/artists/{id}\n",
    "\n",
    "artist_id = \"0OdUWJ0sBjDrqHygGUXeCF\"\n",
    "\n",
    "url = f\"https://api.spotify.com/v1/artists/{artist_id}\"\n",
    "\n",
    "headers = {'authorization': f\"Bearer {access_token}\"}\n",
    "response = requests.get(url, headers=headers)\n",
    "\n",
    "print(response)\n",
    "pprint(response.json()) "
   ]
  },
  {
   "cell_type": "code",
   "execution_count": null,
   "metadata": {},
   "outputs": [],
   "source": []
  },
  {
   "cell_type": "code",
   "execution_count": null,
   "metadata": {},
   "outputs": [],
   "source": []
  },
  {
   "cell_type": "code",
   "execution_count": null,
   "metadata": {},
   "outputs": [],
   "source": []
  },
  {
   "cell_type": "code",
   "execution_count": null,
   "metadata": {},
   "outputs": [],
   "source": []
  },
  {
   "cell_type": "code",
   "execution_count": null,
   "metadata": {},
   "outputs": [],
   "source": []
  },
  {
   "cell_type": "code",
   "execution_count": null,
   "metadata": {},
   "outputs": [],
   "source": []
  }
 ],
 "metadata": {
  "kernelspec": {
   "display_name": "Python 3",
   "language": "python",
   "name": "python3"
  },
  "language_info": {
   "codemirror_mode": {
    "name": "ipython",
    "version": 3
   },
   "file_extension": ".py",
   "mimetype": "text/x-python",
   "name": "python",
   "nbconvert_exporter": "python",
   "pygments_lexer": "ipython3",
   "version": "3.6.7"
  }
 },
 "nbformat": 4,
 "nbformat_minor": 2
}
