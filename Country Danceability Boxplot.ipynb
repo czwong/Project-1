{
 "cells": [
  {
   "cell_type": "code",
   "execution_count": 1,
   "metadata": {},
   "outputs": [],
   "source": [
    "from pathlib import Path\n",
    "import pandas as pd\n",
    "import numpy as np\n",
    "import scipy.stats as stats\n",
    "import matplotlib.pyplot as plt"
   ]
  },
  {
   "cell_type": "code",
   "execution_count": 2,
   "metadata": {},
   "outputs": [],
   "source": [
    "# Root directory to Top Country CSV folder\n",
    "rootdir = Path('Top Country CSV')\n",
    "\n",
    "# Loops through each csv file in Top Country CSV folder\n",
    "file_list = [f for f in rootdir.glob(\"*.csv\") if f.is_file()]"
   ]
  },
  {
   "cell_type": "code",
   "execution_count": 3,
   "metadata": {},
   "outputs": [
    {
     "data": {
      "text/html": [
       "<div>\n",
       "<style scoped>\n",
       "    .dataframe tbody tr th:only-of-type {\n",
       "        vertical-align: middle;\n",
       "    }\n",
       "\n",
       "    .dataframe tbody tr th {\n",
       "        vertical-align: top;\n",
       "    }\n",
       "\n",
       "    .dataframe thead th {\n",
       "        text-align: right;\n",
       "    }\n",
       "</style>\n",
       "<table border=\"1\" class=\"dataframe\">\n",
       "  <thead>\n",
       "    <tr style=\"text-align: right;\">\n",
       "      <th></th>\n",
       "      <th>Country</th>\n",
       "      <th>Artists Name</th>\n",
       "      <th>Artist ID</th>\n",
       "      <th>Track Name</th>\n",
       "      <th>Track ID</th>\n",
       "      <th>Release Date</th>\n",
       "      <th>Popularity</th>\n",
       "      <th>Danceability</th>\n",
       "      <th>Energy</th>\n",
       "    </tr>\n",
       "  </thead>\n",
       "  <tbody>\n",
       "    <tr>\n",
       "      <th>0</th>\n",
       "      <td>Argentina</td>\n",
       "      <td>Daddy Yankee</td>\n",
       "      <td>4VMYDCV2IEDYJArk749S6m</td>\n",
       "      <td>Con Calma</td>\n",
       "      <td>5w9c2J52mkdntKOmRLeM2m</td>\n",
       "      <td>2019-01-24</td>\n",
       "      <td>96</td>\n",
       "      <td>0.737</td>\n",
       "      <td>0.860</td>\n",
       "    </tr>\n",
       "    <tr>\n",
       "      <th>1</th>\n",
       "      <td>Argentina</td>\n",
       "      <td>Pedro Capó</td>\n",
       "      <td>4QVBYiagIaa6ZGSPMbybpy</td>\n",
       "      <td>Calma - Remix</td>\n",
       "      <td>5iwz1NiezX7WWjnCgY5TH4</td>\n",
       "      <td>2018-10-05</td>\n",
       "      <td>96</td>\n",
       "      <td>0.826</td>\n",
       "      <td>0.773</td>\n",
       "    </tr>\n",
       "    <tr>\n",
       "      <th>2</th>\n",
       "      <td>Argentina</td>\n",
       "      <td>Anuel Aa</td>\n",
       "      <td>2R21vXR83lH98kGeO99Y66</td>\n",
       "      <td>Secreto</td>\n",
       "      <td>5W83ErFkO3aKAIS1WMi6u0</td>\n",
       "      <td>2019-01-15</td>\n",
       "      <td>95</td>\n",
       "      <td>0.807</td>\n",
       "      <td>0.803</td>\n",
       "    </tr>\n",
       "    <tr>\n",
       "      <th>3</th>\n",
       "      <td>Argentina</td>\n",
       "      <td>Paulo Londra</td>\n",
       "      <td>3vQ0GE3mI0dAaxIMYe5g7z</td>\n",
       "      <td>Adan y Eva</td>\n",
       "      <td>6FyRXC8tJUh863JCkyWqtk</td>\n",
       "      <td>2018-11-05</td>\n",
       "      <td>94</td>\n",
       "      <td>0.767</td>\n",
       "      <td>0.709</td>\n",
       "    </tr>\n",
       "    <tr>\n",
       "      <th>4</th>\n",
       "      <td>Argentina</td>\n",
       "      <td>Mau y Ricky</td>\n",
       "      <td>2wkoKEfS6dXwThbyTnZWFU</td>\n",
       "      <td>Desconocidos</td>\n",
       "      <td>0s5DNDV6LAKn2u2Ufa3VjQ</td>\n",
       "      <td>2018-10-12</td>\n",
       "      <td>92</td>\n",
       "      <td>0.709</td>\n",
       "      <td>0.771</td>\n",
       "    </tr>\n",
       "  </tbody>\n",
       "</table>\n",
       "</div>"
      ],
      "text/plain": [
       "     Country  Artists Name               Artist ID     Track Name  \\\n",
       "0  Argentina  Daddy Yankee  4VMYDCV2IEDYJArk749S6m      Con Calma   \n",
       "1  Argentina    Pedro Capó  4QVBYiagIaa6ZGSPMbybpy  Calma - Remix   \n",
       "2  Argentina      Anuel Aa  2R21vXR83lH98kGeO99Y66        Secreto   \n",
       "3  Argentina  Paulo Londra  3vQ0GE3mI0dAaxIMYe5g7z     Adan y Eva   \n",
       "4  Argentina   Mau y Ricky  2wkoKEfS6dXwThbyTnZWFU   Desconocidos   \n",
       "\n",
       "                 Track ID Release Date  Popularity  Danceability  Energy  \n",
       "0  5w9c2J52mkdntKOmRLeM2m   2019-01-24          96         0.737   0.860  \n",
       "1  5iwz1NiezX7WWjnCgY5TH4   2018-10-05          96         0.826   0.773  \n",
       "2  5W83ErFkO3aKAIS1WMi6u0   2019-01-15          95         0.807   0.803  \n",
       "3  6FyRXC8tJUh863JCkyWqtk   2018-11-05          94         0.767   0.709  \n",
       "4  0s5DNDV6LAKn2u2Ufa3VjQ   2018-10-12          92         0.709   0.771  "
      ]
     },
     "execution_count": 3,
     "metadata": {},
     "output_type": "execute_result"
    }
   ],
   "source": [
    "# Store country name\n",
    "country_name = str(file_list[0]).split(\"\\\\\")[-1].split(\"_\")[0]\n",
    "\n",
    "# Convert first csv into DataFrame\n",
    "country_df = pd.read_csv(file_list[0])\n",
    "\n",
    "# Drops unecessary column\n",
    "country_df = country_df.drop(columns = 'Unnamed: 0')\n",
    "\n",
    "# Insert country name column\n",
    "country_df.insert(0, \"Country\", country_name)\n",
    "country_df.head()"
   ]
  },
  {
   "cell_type": "code",
   "execution_count": 4,
   "metadata": {},
   "outputs": [],
   "source": [
    "# Loop starts at second file and ends at last\n",
    "for file in file_list[1:]:\n",
    "    country_name = str(file).split(\"\\\\\")[-1].split(\"_\")[0]\n",
    "    \n",
    "    # Convert excel into DataFrame\n",
    "    df = pd.read_csv(file)\n",
    "    \n",
    "    # Drop unecessary columns and insert country\n",
    "    df = df.drop(columns = 'Unnamed: 0')\n",
    "    df.insert(0, \"Country\", country_name)\n",
    "    \n",
    "    # Add each country DataFrame onto the first\n",
    "    country_df = country_df.append(df)"
   ]
  },
  {
   "cell_type": "code",
   "execution_count": 5,
   "metadata": {},
   "outputs": [],
   "source": [
    "# Grab only country column and danceability column\n",
    "country_df = country_df[[\"Country\", \"Danceability\"]]"
   ]
  },
  {
   "cell_type": "code",
   "execution_count": 6,
   "metadata": {},
   "outputs": [
    {
     "data": {
      "text/html": [
       "<div>\n",
       "<style scoped>\n",
       "    .dataframe tbody tr th:only-of-type {\n",
       "        vertical-align: middle;\n",
       "    }\n",
       "\n",
       "    .dataframe tbody tr th {\n",
       "        vertical-align: top;\n",
       "    }\n",
       "\n",
       "    .dataframe thead th {\n",
       "        text-align: right;\n",
       "    }\n",
       "</style>\n",
       "<table border=\"1\" class=\"dataframe\">\n",
       "  <thead>\n",
       "    <tr style=\"text-align: right;\">\n",
       "      <th></th>\n",
       "      <th>Danceability</th>\n",
       "    </tr>\n",
       "    <tr>\n",
       "      <th>Country</th>\n",
       "      <th></th>\n",
       "    </tr>\n",
       "  </thead>\n",
       "  <tbody>\n",
       "    <tr>\n",
       "      <th>Argentina</th>\n",
       "      <td>0.74480</td>\n",
       "    </tr>\n",
       "    <tr>\n",
       "      <th>Australia</th>\n",
       "      <td>0.68442</td>\n",
       "    </tr>\n",
       "    <tr>\n",
       "      <th>Brazil</th>\n",
       "      <td>0.69928</td>\n",
       "    </tr>\n",
       "    <tr>\n",
       "      <th>Canada</th>\n",
       "      <td>0.72234</td>\n",
       "    </tr>\n",
       "    <tr>\n",
       "      <th>Columbia</th>\n",
       "      <td>0.74518</td>\n",
       "    </tr>\n",
       "    <tr>\n",
       "      <th>France</th>\n",
       "      <td>0.73628</td>\n",
       "    </tr>\n",
       "    <tr>\n",
       "      <th>Germany</th>\n",
       "      <td>0.74504</td>\n",
       "    </tr>\n",
       "    <tr>\n",
       "      <th>Indonesia</th>\n",
       "      <td>0.63892</td>\n",
       "    </tr>\n",
       "    <tr>\n",
       "      <th>Japan</th>\n",
       "      <td>0.57940</td>\n",
       "    </tr>\n",
       "    <tr>\n",
       "      <th>Phillipines</th>\n",
       "      <td>0.62886</td>\n",
       "    </tr>\n",
       "    <tr>\n",
       "      <th>South Africa</th>\n",
       "      <td>0.69226</td>\n",
       "    </tr>\n",
       "    <tr>\n",
       "      <th>UK</th>\n",
       "      <td>0.72082</td>\n",
       "    </tr>\n",
       "    <tr>\n",
       "      <th>US</th>\n",
       "      <td>0.74040</td>\n",
       "    </tr>\n",
       "  </tbody>\n",
       "</table>\n",
       "</div>"
      ],
      "text/plain": [
       "              Danceability\n",
       "Country                   \n",
       "Argentina          0.74480\n",
       "Australia          0.68442\n",
       "Brazil             0.69928\n",
       "Canada             0.72234\n",
       "Columbia           0.74518\n",
       "France             0.73628\n",
       "Germany            0.74504\n",
       "Indonesia          0.63892\n",
       "Japan              0.57940\n",
       "Phillipines        0.62886\n",
       "South Africa       0.69226\n",
       "UK                 0.72082\n",
       "US                 0.74040"
      ]
     },
     "execution_count": 6,
     "metadata": {},
     "output_type": "execute_result"
    }
   ],
   "source": [
    "# Mean of danceability for each country\n",
    "country_danceability_mean = country_df.groupby(\"Country\").mean()\n",
    "country_danceability_mean"
   ]
  },
  {
   "cell_type": "code",
   "execution_count": 7,
   "metadata": {},
   "outputs": [
    {
     "data": {
      "image/png": "[encoded data removed]",
      "text/plain": [
       "<Figure size 2160x1440 with 1 Axes>"
      ]
     },
     "metadata": {},
     "output_type": "display_data"
    }
   ],
   "source": [
    "# Create boxplot grouped by country\n",
    "country_df.boxplot(\"Danceability\", by = \"Country\", figsize = (30,20))\n",
    "\n",
    "# Get axis for current plot\n",
    "ax = plt.gca()\n",
    "\n",
    "# X-Axis from 1 to 12\n",
    "x_axis = np.arange(ax.get_xlim()[0] + ax.get_xlim()[0], ax.get_xlim()[1], 1)\n",
    "\n",
    "# Plot danceability mean for each country\n",
    "plt.scatter(x_axis, country_danceability_mean[\"Danceability\"], color = 'r', alpha = 0.5, edgecolor = 'k', s = 200, label = \"danceability mean\")\n",
    "\n",
    "# Add labels and adjust fontsizes\n",
    "plt.xlabel(\"Country\", Fontsize = 20)\n",
    "plt.xticks(Fontsize = 16)\n",
    "plt.ylabel(\"Danceability Score\", Fontsize = 20)\n",
    "plt.yticks(Fontsize = 16)\n",
    "plt.title(\"Danceability Per Country\", Fontsize = 30)\n",
    "\n",
    "# Add legend\n",
    "plt.legend(loc = \"best\", prop={'size': 20})\n",
    "\n",
    "# Save figure\n",
    "plt.savefig(\"Images/Danceability__Per_Country_Boxplot.png\")\n",
    "\n",
    "plt.show()"
   ]
  },
  {
   "cell_type": "code",
   "execution_count": 8,
   "metadata": {},
   "outputs": [],
   "source": [
    "danceability_value = []\n",
    "\n",
    "for file in file_list:\n",
    "    country_name = str(file).split(\"\\\\\")[-1].split(\"_\")[0]\n",
    "    \n",
    "    danceability_value.append(country_df[country_df['Country'] == f\"{country_name}\"]['Danceability'])"
   ]
  },
  {
   "cell_type": "code",
   "execution_count": 9,
   "metadata": {},
   "outputs": [
    {
     "data": {
      "text/plain": [
       "F_onewayResult(statistic=9.40169212958605, pvalue=6.726348335654184e-17)"
      ]
     },
     "execution_count": 9,
     "metadata": {},
     "output_type": "execute_result"
    }
   ],
   "source": [
    "# Perform the ANOVA for all countries listed\n",
    "stats.f_oneway(danceability_value[0],\n",
    "               danceability_value[1],\n",
    "               danceability_value[2],\n",
    "               danceability_value[3],\n",
    "               danceability_value[4],\n",
    "               danceability_value[5],\n",
    "               danceability_value[6],\n",
    "               danceability_value[7],\n",
    "               danceability_value[8],\n",
    "               danceability_value[9],\n",
    "               danceability_value[10],\n",
    "               danceability_value[11],\n",
    "               danceability_value[12])"
   ]
  },
  {
   "cell_type": "code",
   "execution_count": 10,
   "metadata": {},
   "outputs": [
    {
     "data": {
      "text/plain": [
       "F_onewayResult(statistic=2.8623011340736317, pvalue=0.06032709300472438)"
      ]
     },
     "execution_count": 10,
     "metadata": {},
     "output_type": "execute_result"
    }
   ],
   "source": [
    "# Perform the ANOVA for Asia\n",
    "group1 = country_df[country_df[\"Country\"] == \"Indonesia\"][\"Danceability\"]\n",
    "group2 = country_df[country_df[\"Country\"] == \"Japan\"][\"Danceability\"]\n",
    "group3 = country_df[country_df[\"Country\"] == \"Phillipines\"][\"Danceability\"]\n",
    "\n",
    "stats.f_oneway(group1, group2, group3)"
   ]
  },
  {
   "cell_type": "markdown",
   "metadata": {},
   "source": [
    "# ANOVA Analysis Conclusions"
   ]
  },
  {
   "cell_type": "markdown",
   "metadata": {},
   "source": [
    "__HYPOTHESIS:__  If a country’s Top 50 playlist is related to the danceability of the individual songs, then a majority of the songs in each country’s list will have high danceability score.\n",
    "\n",
    "__NULL HYPOTHESIS:__ If a country's Top 50 playlist is not related to the danceability of the individual songs, then a majority of the songs in each country's list will not have high danceability scores.\n",
    "\n",
    ">-  The test output for all observed countries yields an F-statistic of 9.401 and a p-value of 6.724e-17, indicating that there is no significant difference between the means of each country. Low statistic and p-value are indications of strong evidence against the null hypothesis.\n",
    "-  The test output for Asian continent yields an F-statistic of 2.862 and a p-value of 0.0603, indicates strong evidence against the null hypothesis.\n",
    "-  It is also necessary to mention that danceability scores for Top 50 playlists in Asian countries are lower in general than in the rest of the world."
   ]
  },
  {
   "cell_type": "code",
   "execution_count": null,
   "metadata": {},
   "outputs": [],
   "source": []
  }
 ],
 "metadata": {
  "kernelspec": {
   "display_name": "Python 3",
   "language": "python",
   "name": "python3"
  },
  "language_info": {
   "codemirror_mode": {
    "name": "ipython",
    "version": 3
   },
   "file_extension": ".py",
   "mimetype": "text/x-python",
   "name": "python",
   "nbconvert_exporter": "python",
   "pygments_lexer": "ipython3",
   "version": "3.6.5"
  }
 },
 "nbformat": 4,
 "nbformat_minor": 2
}
