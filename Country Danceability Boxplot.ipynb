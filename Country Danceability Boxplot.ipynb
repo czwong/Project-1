{
 "cells": [
  {
   "cell_type": "code",
   "execution_count": 1,
   "metadata": {},
   "outputs": [],
   "source": [
    "from pathlib import Path\n",
    "import pandas as pd"
   ]
  },
  {
   "cell_type": "code",
   "execution_count": 2,
   "metadata": {},
   "outputs": [],
   "source": [
    "rootdir = Path('Top Country CSV')\n",
    "\n",
    "file_list = [f for f in rootdir.glob(\"*.csv\") if f.is_file()]"
   ]
  },
  {
   "cell_type": "code",
   "execution_count": 3,
   "metadata": {},
   "outputs": [
    {
     "data": {
      "text/html": [
       "<div>\n",
       "<style scoped>\n",
       "    .dataframe tbody tr th:only-of-type {\n",
       "        vertical-align: middle;\n",
       "    }\n",
       "\n",
       "    .dataframe tbody tr th {\n",
       "        vertical-align: top;\n",
       "    }\n",
       "\n",
       "    .dataframe thead th {\n",
       "        text-align: right;\n",
       "    }\n",
       "</style>\n",
       "<table border=\"1\" class=\"dataframe\">\n",
       "  <thead>\n",
       "    <tr style=\"text-align: right;\">\n",
       "      <th></th>\n",
       "      <th>Country</th>\n",
       "      <th>Artists Name</th>\n",
       "      <th>Artist ID</th>\n",
       "      <th>Track Name</th>\n",
       "      <th>Track ID</th>\n",
       "      <th>Release Date</th>\n",
       "      <th>Popularity</th>\n",
       "      <th>Danceability</th>\n",
       "      <th>Energy</th>\n",
       "    </tr>\n",
       "  </thead>\n",
       "  <tbody>\n",
       "    <tr>\n",
       "      <th>0</th>\n",
       "      <td>Argentina</td>\n",
       "      <td>Daddy Yankee</td>\n",
       "      <td>4VMYDCV2IEDYJArk749S6m</td>\n",
       "      <td>Con Calma</td>\n",
       "      <td>5w9c2J52mkdntKOmRLeM2m</td>\n",
       "      <td>2019-01-24</td>\n",
       "      <td>94</td>\n",
       "      <td>0.737</td>\n",
       "      <td>0.860</td>\n",
       "    </tr>\n",
       "    <tr>\n",
       "      <th>1</th>\n",
       "      <td>Argentina</td>\n",
       "      <td>Pedro Capó</td>\n",
       "      <td>4QVBYiagIaa6ZGSPMbybpy</td>\n",
       "      <td>Calma - Remix</td>\n",
       "      <td>5iwz1NiezX7WWjnCgY5TH4</td>\n",
       "      <td>2018-10-05</td>\n",
       "      <td>96</td>\n",
       "      <td>0.826</td>\n",
       "      <td>0.773</td>\n",
       "    </tr>\n",
       "    <tr>\n",
       "      <th>2</th>\n",
       "      <td>Argentina</td>\n",
       "      <td>Anuel Aa</td>\n",
       "      <td>2R21vXR83lH98kGeO99Y66</td>\n",
       "      <td>Secreto</td>\n",
       "      <td>5W83ErFkO3aKAIS1WMi6u0</td>\n",
       "      <td>2019-01-15</td>\n",
       "      <td>95</td>\n",
       "      <td>0.807</td>\n",
       "      <td>0.803</td>\n",
       "    </tr>\n",
       "    <tr>\n",
       "      <th>3</th>\n",
       "      <td>Argentina</td>\n",
       "      <td>Paulo Londra</td>\n",
       "      <td>3vQ0GE3mI0dAaxIMYe5g7z</td>\n",
       "      <td>Adan y Eva</td>\n",
       "      <td>6FyRXC8tJUh863JCkyWqtk</td>\n",
       "      <td>2018-11-05</td>\n",
       "      <td>94</td>\n",
       "      <td>0.767</td>\n",
       "      <td>0.709</td>\n",
       "    </tr>\n",
       "    <tr>\n",
       "      <th>4</th>\n",
       "      <td>Argentina</td>\n",
       "      <td>Mau y Ricky</td>\n",
       "      <td>2wkoKEfS6dXwThbyTnZWFU</td>\n",
       "      <td>Desconocidos</td>\n",
       "      <td>0s5DNDV6LAKn2u2Ufa3VjQ</td>\n",
       "      <td>2018-10-12</td>\n",
       "      <td>92</td>\n",
       "      <td>0.709</td>\n",
       "      <td>0.771</td>\n",
       "    </tr>\n",
       "  </tbody>\n",
       "</table>\n",
       "</div>"
      ],
      "text/plain": [
       "     Country  Artists Name               Artist ID     Track Name  \\\n",
       "0  Argentina  Daddy Yankee  4VMYDCV2IEDYJArk749S6m      Con Calma   \n",
       "1  Argentina    Pedro Capó  4QVBYiagIaa6ZGSPMbybpy  Calma - Remix   \n",
       "2  Argentina      Anuel Aa  2R21vXR83lH98kGeO99Y66        Secreto   \n",
       "3  Argentina  Paulo Londra  3vQ0GE3mI0dAaxIMYe5g7z     Adan y Eva   \n",
       "4  Argentina   Mau y Ricky  2wkoKEfS6dXwThbyTnZWFU   Desconocidos   \n",
       "\n",
       "                 Track ID Release Date  Popularity  Danceability  Energy  \n",
       "0  5w9c2J52mkdntKOmRLeM2m   2019-01-24          94         0.737   0.860  \n",
       "1  5iwz1NiezX7WWjnCgY5TH4   2018-10-05          96         0.826   0.773  \n",
       "2  5W83ErFkO3aKAIS1WMi6u0   2019-01-15          95         0.807   0.803  \n",
       "3  6FyRXC8tJUh863JCkyWqtk   2018-11-05          94         0.767   0.709  \n",
       "4  0s5DNDV6LAKn2u2Ufa3VjQ   2018-10-12          92         0.709   0.771  "
      ]
     },
     "execution_count": 3,
     "metadata": {},
     "output_type": "execute_result"
    }
   ],
   "source": [
    "country_name = str(file_list[0]).split(\"\\\\\")[-1].split(\"_\")[0]\n",
    "country_df = pd.read_csv(file_list[0])\n",
    "\n",
    "country_df = country_df.drop(columns = 'Unnamed: 0')\n",
    "country_df.insert(0, \"Country\", country_name)\n",
    "country_df.head()"
   ]
  },
  {
   "cell_type": "code",
   "execution_count": 4,
   "metadata": {},
   "outputs": [],
   "source": [
    "for file in file_list[1:]:\n",
    "    country_name = str(file).split(\"\\\\\")[-1].split(\"_\")[0]\n",
    "    \n",
    "    df = pd.read_csv(file)\n",
    "    \n",
    "    df = df.drop(columns = 'Unnamed: 0')\n",
    "    df.insert(0, \"Country\", country_name)\n",
    "    \n",
    "    country_df = country_df.append(df)"
   ]
  },
  {
   "cell_type": "code",
   "execution_count": 8,
   "metadata": {},
   "outputs": [],
   "source": [
    "country_df = country_df[[\"Country\", \"Danceability\"]]"
   ]
  },
  {
   "cell_type": "code",
   "execution_count": 15,
   "metadata": {},
   "outputs": [
    {
     "data": {
      "text/plain": [
       "<matplotlib.axes._subplots.AxesSubplot at 0x164bed01198>"
      ]
     },
     "execution_count": 15,
     "metadata": {},
     "output_type": "execute_result"
    },
    {
     "data": {
      "image/png": "[encoded data removed]",
      "text/plain": [
       "<Figure size 1440x720 with 1 Axes>"
      ]
     },
     "metadata": {},
     "output_type": "display_data"
    }
   ],
   "source": [
    "country_df.boxplot(\"Danceability\", by = \"Country\", figsize = (20,10))"
   ]
  },
  {
   "cell_type": "code",
   "execution_count": null,
   "metadata": {},
   "outputs": [],
   "source": []
  }
 ],
 "metadata": {
  "kernelspec": {
   "display_name": "Python 3",
   "language": "python",
   "name": "python3"
  },
  "language_info": {
   "codemirror_mode": {
    "name": "ipython",
    "version": 3
   },
   "file_extension": ".py",
   "mimetype": "text/x-python",
   "name": "python",
   "nbconvert_exporter": "python",
   "pygments_lexer": "ipython3",
   "version": "3.6.5"
  }
 },
 "nbformat": 4,
 "nbformat_minor": 2
}
