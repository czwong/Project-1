{
 "cells": [
  {
   "cell_type": "code",
   "execution_count": 11,
   "metadata": {},
   "outputs": [
    {
     "name": "stdout",
     "output_type": "stream",
     "text": [
      "\n",
      "\n",
      "            User authentication requires interaction with your\n",
      "            web browser. Once you enter your credentials and\n",
      "            give authorization, you will be redirected to\n",
      "            a url.  Paste that url you were directed to to\n",
      "            complete the authorization.\n",
      "\n",
      "        \n",
      "Opened https://accounts.spotify.com/authorize?client_id=fdbc9c9657b84c41a636dd29c955ca5a&response_type=code&redirect_uri=https%3A%2F%2Fwww.google.com%2F in your browser\n",
      "\n",
      "\n",
      "Enter the URL you were redirected to: https://www.google.com/?code=AQBLUYgCMk_D1HVD_YGAKg0V7PmcdkXP_M8FGGyAUdBYSUWF8fE91yUcVewSh7SBaCHVbEkgZnKlBDvKcPzqiuR16Ku-pl6ddaQa9IX_Ua7FW0UFwXupBcsVpFV2jjNNFt_MMEGNNSppeXVGtIW08eTgCFDVRy7kPmK0HAYMM-MpXlR6eywh9OqCCnZb-Ts\n",
      "\n",
      "\n"
     ]
    },
    {
     "ename": "TypeError",
     "evalue": "_warn() takes 2 positional arguments but 5 were given",
     "output_type": "error",
     "traceback": [
      "\u001b[1;31m---------------------------------------------------------------------------\u001b[0m",
      "\u001b[1;31mTypeError\u001b[0m                                 Traceback (most recent call last)",
      "\u001b[1;32m<ipython-input-11-57e9f4ccfc09>\u001b[0m in \u001b[0;36m<module>\u001b[1;34m()\u001b[0m\n\u001b[0;32m     34\u001b[0m \u001b[0mlz_uri\u001b[0m \u001b[1;33m=\u001b[0m \u001b[1;34m'spotify:track:0Svkvt5I79wficMFgaqEQJ'\u001b[0m\u001b[1;33m\u001b[0m\u001b[0m\n\u001b[0;32m     35\u001b[0m \u001b[1;33m\u001b[0m\u001b[0m\n\u001b[1;32m---> 36\u001b[1;33m \u001b[0mresults\u001b[0m \u001b[1;33m=\u001b[0m \u001b[0mspotifyobject\u001b[0m\u001b[1;33m.\u001b[0m\u001b[0martist\u001b[0m\u001b[1;33m(\u001b[0m\u001b[0mlz_uri\u001b[0m\u001b[1;33m)\u001b[0m\u001b[1;33m\u001b[0m\u001b[0m\n\u001b[0m\u001b[0;32m     37\u001b[0m \u001b[0mprint\u001b[0m\u001b[1;33m(\u001b[0m\u001b[0mjson\u001b[0m\u001b[1;33m.\u001b[0m\u001b[0mdumps\u001b[0m\u001b[1;33m(\u001b[0m\u001b[0mresults\u001b[0m\u001b[1;33m,\u001b[0m \u001b[0msort_keys\u001b[0m\u001b[1;33m=\u001b[0m\u001b[1;32mTrue\u001b[0m\u001b[1;33m,\u001b[0m \u001b[0mindent\u001b[0m\u001b[1;33m=\u001b[0m\u001b[1;36m4\u001b[0m\u001b[1;33m)\u001b[0m\u001b[1;33m)\u001b[0m\u001b[1;33m\u001b[0m\u001b[0m\n\u001b[0;32m     38\u001b[0m \u001b[1;33m\u001b[0m\u001b[0m\n",
      "\u001b[1;32m~\\Anaconda3\\lib\\site-packages\\spotipy\\client.py\u001b[0m in \u001b[0;36martist\u001b[1;34m(self, artist_id)\u001b[0m\n\u001b[0;32m    241\u001b[0m         '''\n\u001b[0;32m    242\u001b[0m \u001b[1;33m\u001b[0m\u001b[0m\n\u001b[1;32m--> 243\u001b[1;33m         \u001b[0mtrid\u001b[0m \u001b[1;33m=\u001b[0m \u001b[0mself\u001b[0m\u001b[1;33m.\u001b[0m\u001b[0m_get_id\u001b[0m\u001b[1;33m(\u001b[0m\u001b[1;34m'artist'\u001b[0m\u001b[1;33m,\u001b[0m \u001b[0martist_id\u001b[0m\u001b[1;33m)\u001b[0m\u001b[1;33m\u001b[0m\u001b[0m\n\u001b[0m\u001b[0;32m    244\u001b[0m         \u001b[1;32mreturn\u001b[0m \u001b[0mself\u001b[0m\u001b[1;33m.\u001b[0m\u001b[0m_get\u001b[0m\u001b[1;33m(\u001b[0m\u001b[1;34m'artists/'\u001b[0m \u001b[1;33m+\u001b[0m \u001b[0mtrid\u001b[0m\u001b[1;33m)\u001b[0m\u001b[1;33m\u001b[0m\u001b[0m\n\u001b[0;32m    245\u001b[0m \u001b[1;33m\u001b[0m\u001b[0m\n",
      "\u001b[1;32m~\\Anaconda3\\lib\\site-packages\\spotipy\\client.py\u001b[0m in \u001b[0;36m_get_id\u001b[1;34m(self, type, id)\u001b[0m\n\u001b[0;32m    848\u001b[0m             \u001b[1;32mif\u001b[0m \u001b[0mtype\u001b[0m \u001b[1;33m!=\u001b[0m \u001b[0mfields\u001b[0m\u001b[1;33m[\u001b[0m\u001b[1;33m-\u001b[0m\u001b[1;36m2\u001b[0m\u001b[1;33m]\u001b[0m\u001b[1;33m:\u001b[0m\u001b[1;33m\u001b[0m\u001b[0m\n\u001b[0;32m    849\u001b[0m                 self._warn('expected id of type %s but found type %s %s',\n\u001b[1;32m--> 850\u001b[1;33m                            type, fields[-2], id)\n\u001b[0m\u001b[0;32m    851\u001b[0m             \u001b[1;32mreturn\u001b[0m \u001b[0mfields\u001b[0m\u001b[1;33m[\u001b[0m\u001b[1;33m-\u001b[0m\u001b[1;36m1\u001b[0m\u001b[1;33m]\u001b[0m\u001b[1;33m\u001b[0m\u001b[0m\n\u001b[0;32m    852\u001b[0m         \u001b[0mfields\u001b[0m \u001b[1;33m=\u001b[0m \u001b[0mid\u001b[0m\u001b[1;33m.\u001b[0m\u001b[0msplit\u001b[0m\u001b[1;33m(\u001b[0m\u001b[1;34m'/'\u001b[0m\u001b[1;33m)\u001b[0m\u001b[1;33m\u001b[0m\u001b[0m\n",
      "\u001b[1;31mTypeError\u001b[0m: _warn() takes 2 positional arguments but 5 were given"
     ]
    }
   ],
   "source": [
    "import spotipy\n",
    "import os\n",
    "import webbrowser\n",
    "import json\n",
    "import sys\n",
    "import spotipy.util as util\n",
    "from json.decoder import JSONDecodeError\n",
    "import requests\n",
    "\n",
    "#Get the username from terminal\n",
    "username = sys.argv[1]\n",
    "\n",
    "#user id: sunofalaura?si=k2b6U7prRTSlhE46T48HVg\n",
    "\n",
    "#erase cache and prompt for user permission\n",
    "\n",
    "try:\n",
    "    token = util.prompt_for_user_token(username)\n",
    "except:\n",
    "    os.remove(f\".cache-{username}\")\n",
    "    token = util.prompt_for_user_token(username)\n",
    "\n",
    "#create spotifyobject\n",
    "spotifyobject = spotipy.Spotify(auth=token)\n",
    "\n",
    "#prints out json data in a pretty format\n",
    "#print(json.dumps(VARIABLE, sort_keys=True, indent=4))\n",
    "\n",
    "user = spotifyobject.current_user()\n",
    "dispayName= user[\"display_name\"]\n",
    "followers = user[\"followers\"][\"total\"]\n",
    "#print(json.dumps(user, sort_keys=True, indent=4))\n",
    "\n",
    "lz_uri = 'spotify:track:0Svkvt5I79wficMFgaqEQJ'\n",
    "\n",
    "results = spotifyobject.track(lz_uri)\n",
    "print(json.dumps(results, sort_keys=True, indent=4))\n",
    "\n",
    "\"\"\"\n",
    "try:\n",
    "    print()\n",
    "    target_url=\"https://api.spotify.com/v1/browse/featured-playlists\"\n",
    "    print(requests.get(target_url).json())\n",
    "except:\n",
    "    print(\"Didn't work\")\n",
    "\n",
    "while True:\n",
    "    print()\n",
    "    searchQuery = input(\"Which artist would you like to search for?\")\n",
    "    searchResults = spotifyobject.search(searchQuery,1,0,\"artist\")\n",
    "    print(json.dumps(searchResults, sort_keys=True, indent=4))\n",
    "\"\"\""
   ]
  },
  {
   "cell_type": "code",
   "execution_count": null,
   "metadata": {},
   "outputs": [],
   "source": []
  }
 ],
 "metadata": {
  "kernelspec": {
   "display_name": "Python 3",
   "language": "python",
   "name": "python3"
  },
  "language_info": {
   "codemirror_mode": {
    "name": "ipython",
    "version": 3
   },
   "file_extension": ".py",
   "mimetype": "text/x-python",
   "name": "python",
   "nbconvert_exporter": "python",
   "pygments_lexer": "ipython3",
   "version": "3.7.0"
  }
 },
 "nbformat": 4,
 "nbformat_minor": 2
}
