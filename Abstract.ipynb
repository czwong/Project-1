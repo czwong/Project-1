{
 "cells": [
  {
   "cell_type": "markdown",
   "metadata": {},
   "source": [
    "## ABSTRACT"
   ]
  },
  {
   "cell_type": "markdown",
   "metadata": {},
   "source": [
    "We will conduct exploratory analysis on Spotify's top 50 songs by country. \n",
    "\n",
    "Notebook tools: Spotify's API, pandas and matplotlib.\n",
    "\n",
    "Spotify's API gives us data on the danceability, energy, key, loudness, mode, speechiness, acousticness, instrumentalness, liveliness, and etc of a song. The scores for these audio features are determined by Spotify's own algorithms."
   ]
  },
  {
   "cell_type": "markdown",
   "metadata": {},
   "source": [
    "Significance: \"Music is the universal language\"\n",
    "\n",
    "Spotify has 171 million active users and 75 million paid subscribers worldwide. We're looking for interesting patterns in our datasets that could quantify just how \"universal\" music is."
   ]
  },
  {
   "cell_type": "markdown",
   "metadata": {},
   "source": [
    "### Questions to answer:\n",
    "- Are there any correlations between genres, audio feature (focus on danceability, energy) and popularity?\n",
    "    Do certain types of songs stay longer on the TOP 50 charts?\n",
    "    Limitation - we don't have access to the TOP 50 songs ofe prior months. We only have access to today's top 50 songs. So we can look at the release dates.\n",
    "- Use ANOVA to check for statistical significance between popularity, danceability across all countries.\n",
    "- Conduct chi test to see how likely the significance is occured by chance\n",
    "\n",
    "Dependent - audio features, popularity\n",
    "Independent - song, genre\n",
    "\n",
    "Hypothesis: If the song's genre affects a song's popularity, then a song's genre can predict the audio features of a song.\n",
    "\n",
    "Comparing audio features per song: line graph or scatter plot\n",
    "Simple statistics summary: pie chart"
   ]
  },
  {
   "cell_type": "code",
   "execution_count": null,
   "metadata": {},
   "outputs": [],
   "source": []
  }
 ],
 "metadata": {
  "kernelspec": {
   "display_name": "Python 3",
   "language": "python",
   "name": "python3"
  },
  "language_info": {
   "codemirror_mode": {
    "name": "ipython",
    "version": 3
   },
   "file_extension": ".py",
   "mimetype": "text/x-python",
   "name": "python",
   "nbconvert_exporter": "python",
   "pygments_lexer": "ipython3",
   "version": "3.7.0"
  }
 },
 "nbformat": 4,
 "nbformat_minor": 2
}
