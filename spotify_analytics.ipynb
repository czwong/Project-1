{
 "cells": [
  {
   "cell_type": "code",
   "execution_count": 82,
   "metadata": {},
   "outputs": [],
   "source": [
    "import pandas as pd\n",
    "import numpy as np\n",
    "import glob\n",
    "%matplotlib inline\n",
    "import scipy.stats as stats\n",
    "import matplotlib.pyplot as plt\n",
    "import warnings\n",
    "warnings.filterwarnings('ignore')"
   ]
  },
  {
   "cell_type": "code",
   "execution_count": 35,
   "metadata": {
    "scrolled": false
   },
   "outputs": [
    {
     "data": {
      "text/html": [
       "<div>\n",
       "<style scoped>\n",
       "    .dataframe tbody tr th:only-of-type {\n",
       "        vertical-align: middle;\n",
       "    }\n",
       "\n",
       "    .dataframe tbody tr th {\n",
       "        vertical-align: top;\n",
       "    }\n",
       "\n",
       "    .dataframe thead th {\n",
       "        text-align: right;\n",
       "    }\n",
       "</style>\n",
       "<table border=\"1\" class=\"dataframe\">\n",
       "  <thead>\n",
       "    <tr style=\"text-align: right;\">\n",
       "      <th></th>\n",
       "      <th>Unnamed: 0</th>\n",
       "      <th>Country</th>\n",
       "      <th>Artists Name</th>\n",
       "      <th>Artist ID</th>\n",
       "      <th>Track Name</th>\n",
       "      <th>Track ID</th>\n",
       "      <th>Release Date</th>\n",
       "      <th>Popularity</th>\n",
       "      <th>Danceability</th>\n",
       "      <th>Energy</th>\n",
       "    </tr>\n",
       "  </thead>\n",
       "  <tbody>\n",
       "    <tr>\n",
       "      <th>0</th>\n",
       "      <td>0</td>\n",
       "      <td>Argentina</td>\n",
       "      <td>Daddy Yankee</td>\n",
       "      <td>4VMYDCV2IEDYJArk749S6m</td>\n",
       "      <td>Con Calma</td>\n",
       "      <td>5w9c2J52mkdntKOmRLeM2m</td>\n",
       "      <td>2019-01-24</td>\n",
       "      <td>94</td>\n",
       "      <td>0.737</td>\n",
       "      <td>0.860</td>\n",
       "    </tr>\n",
       "    <tr>\n",
       "      <th>1</th>\n",
       "      <td>1</td>\n",
       "      <td>Argentina</td>\n",
       "      <td>Pedro Capó</td>\n",
       "      <td>4QVBYiagIaa6ZGSPMbybpy</td>\n",
       "      <td>Calma - Remix</td>\n",
       "      <td>5iwz1NiezX7WWjnCgY5TH4</td>\n",
       "      <td>2018-10-05</td>\n",
       "      <td>96</td>\n",
       "      <td>0.826</td>\n",
       "      <td>0.773</td>\n",
       "    </tr>\n",
       "    <tr>\n",
       "      <th>2</th>\n",
       "      <td>2</td>\n",
       "      <td>Argentina</td>\n",
       "      <td>Anuel Aa</td>\n",
       "      <td>2R21vXR83lH98kGeO99Y66</td>\n",
       "      <td>Secreto</td>\n",
       "      <td>5W83ErFkO3aKAIS1WMi6u0</td>\n",
       "      <td>2019-01-15</td>\n",
       "      <td>94</td>\n",
       "      <td>0.807</td>\n",
       "      <td>0.803</td>\n",
       "    </tr>\n",
       "    <tr>\n",
       "      <th>3</th>\n",
       "      <td>3</td>\n",
       "      <td>Argentina</td>\n",
       "      <td>Paulo Londra</td>\n",
       "      <td>3vQ0GE3mI0dAaxIMYe5g7z</td>\n",
       "      <td>Adan y Eva</td>\n",
       "      <td>6FyRXC8tJUh863JCkyWqtk</td>\n",
       "      <td>2018-11-05</td>\n",
       "      <td>94</td>\n",
       "      <td>0.767</td>\n",
       "      <td>0.709</td>\n",
       "    </tr>\n",
       "    <tr>\n",
       "      <th>4</th>\n",
       "      <td>4</td>\n",
       "      <td>Argentina</td>\n",
       "      <td>Mau y Ricky</td>\n",
       "      <td>2wkoKEfS6dXwThbyTnZWFU</td>\n",
       "      <td>Desconocidos</td>\n",
       "      <td>0s5DNDV6LAKn2u2Ufa3VjQ</td>\n",
       "      <td>2018-10-12</td>\n",
       "      <td>92</td>\n",
       "      <td>0.709</td>\n",
       "      <td>0.771</td>\n",
       "    </tr>\n",
       "  </tbody>\n",
       "</table>\n",
       "</div>"
      ],
      "text/plain": [
       "   Unnamed: 0    Country  Artists Name               Artist ID     Track Name  \\\n",
       "0           0  Argentina  Daddy Yankee  4VMYDCV2IEDYJArk749S6m      Con Calma   \n",
       "1           1  Argentina    Pedro Capó  4QVBYiagIaa6ZGSPMbybpy  Calma - Remix   \n",
       "2           2  Argentina      Anuel Aa  2R21vXR83lH98kGeO99Y66        Secreto   \n",
       "3           3  Argentina  Paulo Londra  3vQ0GE3mI0dAaxIMYe5g7z     Adan y Eva   \n",
       "4           4  Argentina   Mau y Ricky  2wkoKEfS6dXwThbyTnZWFU   Desconocidos   \n",
       "\n",
       "                 Track ID Release Date  Popularity  Danceability  Energy  \n",
       "0  5w9c2J52mkdntKOmRLeM2m   2019-01-24          94         0.737   0.860  \n",
       "1  5iwz1NiezX7WWjnCgY5TH4   2018-10-05          96         0.826   0.773  \n",
       "2  5W83ErFkO3aKAIS1WMi6u0   2019-01-15          94         0.807   0.803  \n",
       "3  6FyRXC8tJUh863JCkyWqtk   2018-11-05          94         0.767   0.709  \n",
       "4  0s5DNDV6LAKn2u2Ufa3VjQ   2018-10-12          92         0.709   0.771  "
      ]
     },
     "execution_count": 35,
     "metadata": {},
     "output_type": "execute_result"
    }
   ],
   "source": [
    "path = \"top_50_by_country_col\"\n",
    "all_files = glob.glob(path + \"/*.csv\")\n",
    "\n",
    "list_ = []\n",
    "\n",
    "for file_ in all_files:\n",
    "    df = pd.read_csv(file_,index_col = None, header = 0)\n",
    "    list_.append(df)\n",
    "\n",
    "all_countries_df = pd.concat(list_, axis = 0, ignore_index = True)\n",
    "all_countries_df.head()"
   ]
  },
  {
   "cell_type": "code",
   "execution_count": 36,
   "metadata": {},
   "outputs": [],
   "source": [
    "all_countries_df.to_csv(\"top_50_by_country_col/output/all_countries.csv\", index=False, header=True)"
   ]
  },
  {
   "cell_type": "code",
   "execution_count": 37,
   "metadata": {},
   "outputs": [],
   "source": [
    "# path = \"Top Country CSV/Argentina_top_50.csv\"\n",
    "\n",
    "# # Read the modified csv and store into Pandas DataFrame\n",
    "# df_country = pd.read_csv(path, encoding=\"utf-8\")\n",
    "# df_country.head()"
   ]
  },
  {
   "cell_type": "code",
   "execution_count": 38,
   "metadata": {},
   "outputs": [],
   "source": [
    "# df_country.insert(1, \"Country\", \"Argentina\")\n",
    "# df_country.head()"
   ]
  },
  {
   "cell_type": "code",
   "execution_count": 39,
   "metadata": {},
   "outputs": [],
   "source": [
    "# df_country.to_csv(\"top_50_by_country_col/argentina_top_50_col.csv\", index=False, header=True)"
   ]
  },
  {
   "cell_type": "code",
   "execution_count": 40,
   "metadata": {},
   "outputs": [
    {
     "data": {
      "text/plain": [
       "Country\n",
       "Argentina       85.16\n",
       "Brazil          77.04\n",
       "Canada          88.30\n",
       "Columbia        84.42\n",
       "France          77.34\n",
       "Germany         82.34\n",
       "Indonesia       76.30\n",
       "Japan           63.02\n",
       "Phillipines     80.96\n",
       "South Africa    87.78\n",
       "UK              86.58\n",
       "US              87.46\n",
       "Name: Popularity, dtype: float64"
      ]
     },
     "execution_count": 40,
     "metadata": {},
     "output_type": "execute_result"
    }
   ],
   "source": [
    "## Calculate average popularity per playlist per country\n",
    "popularity_average = (all_countries_df.groupby([\"Country\"]).mean()[\"Popularity\"])\n",
    "popularity_average"
   ]
  },
  {
   "cell_type": "code",
   "execution_count": 41,
   "metadata": {},
   "outputs": [
    {
     "data": {
      "text/plain": [
       "Country\n",
       "Argentina       0.73980\n",
       "Brazil          0.70050\n",
       "Canada          0.72800\n",
       "Columbia        0.74382\n",
       "France          0.74582\n",
       "Germany         0.74164\n",
       "Indonesia       0.63530\n",
       "Japan           0.57496\n",
       "Phillipines     0.62210\n",
       "South Africa    0.70468\n",
       "UK              0.72862\n",
       "US              0.74552\n",
       "Name: Danceability, dtype: float64"
      ]
     },
     "execution_count": 41,
     "metadata": {},
     "output_type": "execute_result"
    }
   ],
   "source": [
    "## Calculate average popularity per playlist per country\n",
    "danceability_average = (all_countries_df.groupby([\"Country\"]).mean()[\"Danceability\"])\n",
    "danceability_average"
   ]
  },
  {
   "cell_type": "code",
   "execution_count": 42,
   "metadata": {},
   "outputs": [
    {
     "data": {
      "text/html": [
       "<div>\n",
       "<style scoped>\n",
       "    .dataframe tbody tr th:only-of-type {\n",
       "        vertical-align: middle;\n",
       "    }\n",
       "\n",
       "    .dataframe tbody tr th {\n",
       "        vertical-align: top;\n",
       "    }\n",
       "\n",
       "    .dataframe thead th {\n",
       "        text-align: right;\n",
       "    }\n",
       "</style>\n",
       "<table border=\"1\" class=\"dataframe\">\n",
       "  <thead>\n",
       "    <tr style=\"text-align: right;\">\n",
       "      <th></th>\n",
       "      <th>Dancebility Avr.</th>\n",
       "    </tr>\n",
       "    <tr>\n",
       "      <th>Country</th>\n",
       "      <th></th>\n",
       "    </tr>\n",
       "  </thead>\n",
       "  <tbody>\n",
       "    <tr>\n",
       "      <th>Argentina</th>\n",
       "      <td>0.73980</td>\n",
       "    </tr>\n",
       "    <tr>\n",
       "      <th>Brazil</th>\n",
       "      <td>0.70050</td>\n",
       "    </tr>\n",
       "    <tr>\n",
       "      <th>Canada</th>\n",
       "      <td>0.72800</td>\n",
       "    </tr>\n",
       "    <tr>\n",
       "      <th>Columbia</th>\n",
       "      <td>0.74382</td>\n",
       "    </tr>\n",
       "    <tr>\n",
       "      <th>France</th>\n",
       "      <td>0.74582</td>\n",
       "    </tr>\n",
       "    <tr>\n",
       "      <th>Germany</th>\n",
       "      <td>0.74164</td>\n",
       "    </tr>\n",
       "    <tr>\n",
       "      <th>Indonesia</th>\n",
       "      <td>0.63530</td>\n",
       "    </tr>\n",
       "    <tr>\n",
       "      <th>Japan</th>\n",
       "      <td>0.57496</td>\n",
       "    </tr>\n",
       "    <tr>\n",
       "      <th>Phillipines</th>\n",
       "      <td>0.62210</td>\n",
       "    </tr>\n",
       "    <tr>\n",
       "      <th>South Africa</th>\n",
       "      <td>0.70468</td>\n",
       "    </tr>\n",
       "    <tr>\n",
       "      <th>UK</th>\n",
       "      <td>0.72862</td>\n",
       "    </tr>\n",
       "    <tr>\n",
       "      <th>US</th>\n",
       "      <td>0.74552</td>\n",
       "    </tr>\n",
       "  </tbody>\n",
       "</table>\n",
       "</div>"
      ],
      "text/plain": [
       "              Dancebility Avr.\n",
       "Country                       \n",
       "Argentina              0.73980\n",
       "Brazil                 0.70050\n",
       "Canada                 0.72800\n",
       "Columbia               0.74382\n",
       "France                 0.74582\n",
       "Germany                0.74164\n",
       "Indonesia              0.63530\n",
       "Japan                  0.57496\n",
       "Phillipines            0.62210\n",
       "South Africa           0.70468\n",
       "UK                     0.72862\n",
       "US                     0.74552"
      ]
     },
     "execution_count": 42,
     "metadata": {},
     "output_type": "execute_result"
    }
   ],
   "source": [
    "## Create summary table with new data frame\n",
    "results_avr = pd.DataFrame({\n",
    "                            \"Dancebility Avr.\": danceability_average\n",
    "})\n",
    "results_avr"
   ]
  },
  {
   "cell_type": "code",
   "execution_count": 43,
   "metadata": {},
   "outputs": [],
   "source": [
    "results_avr.to_csv(\"top_50_by_country_col/avr_danceability.csv\", index=True, header=True)"
   ]
  },
  {
   "cell_type": "code",
   "execution_count": 44,
   "metadata": {},
   "outputs": [
    {
     "data": {
      "text/html": [
       "<div>\n",
       "<style scoped>\n",
       "    .dataframe tbody tr th:only-of-type {\n",
       "        vertical-align: middle;\n",
       "    }\n",
       "\n",
       "    .dataframe tbody tr th {\n",
       "        vertical-align: top;\n",
       "    }\n",
       "\n",
       "    .dataframe thead th {\n",
       "        text-align: right;\n",
       "    }\n",
       "</style>\n",
       "<table border=\"1\" class=\"dataframe\">\n",
       "  <thead>\n",
       "    <tr style=\"text-align: right;\">\n",
       "      <th></th>\n",
       "      <th>Unnamed: 0</th>\n",
       "      <th>Country</th>\n",
       "      <th>Artists Name</th>\n",
       "      <th>Artist ID</th>\n",
       "      <th>Track Name</th>\n",
       "      <th>Track ID</th>\n",
       "      <th>Release Date</th>\n",
       "      <th>Popularity</th>\n",
       "      <th>Danceability</th>\n",
       "      <th>Energy</th>\n",
       "    </tr>\n",
       "  </thead>\n",
       "  <tbody>\n",
       "    <tr>\n",
       "      <th>0</th>\n",
       "      <td>0</td>\n",
       "      <td>Argentina</td>\n",
       "      <td>Daddy Yankee</td>\n",
       "      <td>4VMYDCV2IEDYJArk749S6m</td>\n",
       "      <td>Con Calma</td>\n",
       "      <td>5w9c2J52mkdntKOmRLeM2m</td>\n",
       "      <td>2019-01-24</td>\n",
       "      <td>94</td>\n",
       "      <td>0.737</td>\n",
       "      <td>0.860</td>\n",
       "    </tr>\n",
       "    <tr>\n",
       "      <th>1</th>\n",
       "      <td>1</td>\n",
       "      <td>Argentina</td>\n",
       "      <td>Pedro Capó</td>\n",
       "      <td>4QVBYiagIaa6ZGSPMbybpy</td>\n",
       "      <td>Calma - Remix</td>\n",
       "      <td>5iwz1NiezX7WWjnCgY5TH4</td>\n",
       "      <td>2018-10-05</td>\n",
       "      <td>96</td>\n",
       "      <td>0.826</td>\n",
       "      <td>0.773</td>\n",
       "    </tr>\n",
       "    <tr>\n",
       "      <th>2</th>\n",
       "      <td>2</td>\n",
       "      <td>Argentina</td>\n",
       "      <td>Anuel Aa</td>\n",
       "      <td>2R21vXR83lH98kGeO99Y66</td>\n",
       "      <td>Secreto</td>\n",
       "      <td>5W83ErFkO3aKAIS1WMi6u0</td>\n",
       "      <td>2019-01-15</td>\n",
       "      <td>94</td>\n",
       "      <td>0.807</td>\n",
       "      <td>0.803</td>\n",
       "    </tr>\n",
       "    <tr>\n",
       "      <th>3</th>\n",
       "      <td>3</td>\n",
       "      <td>Argentina</td>\n",
       "      <td>Paulo Londra</td>\n",
       "      <td>3vQ0GE3mI0dAaxIMYe5g7z</td>\n",
       "      <td>Adan y Eva</td>\n",
       "      <td>6FyRXC8tJUh863JCkyWqtk</td>\n",
       "      <td>2018-11-05</td>\n",
       "      <td>94</td>\n",
       "      <td>0.767</td>\n",
       "      <td>0.709</td>\n",
       "    </tr>\n",
       "    <tr>\n",
       "      <th>4</th>\n",
       "      <td>4</td>\n",
       "      <td>Argentina</td>\n",
       "      <td>Mau y Ricky</td>\n",
       "      <td>2wkoKEfS6dXwThbyTnZWFU</td>\n",
       "      <td>Desconocidos</td>\n",
       "      <td>0s5DNDV6LAKn2u2Ufa3VjQ</td>\n",
       "      <td>2018-10-12</td>\n",
       "      <td>92</td>\n",
       "      <td>0.709</td>\n",
       "      <td>0.771</td>\n",
       "    </tr>\n",
       "  </tbody>\n",
       "</table>\n",
       "</div>"
      ],
      "text/plain": [
       "   Unnamed: 0    Country  Artists Name               Artist ID     Track Name  \\\n",
       "0           0  Argentina  Daddy Yankee  4VMYDCV2IEDYJArk749S6m      Con Calma   \n",
       "1           1  Argentina    Pedro Capó  4QVBYiagIaa6ZGSPMbybpy  Calma - Remix   \n",
       "2           2  Argentina      Anuel Aa  2R21vXR83lH98kGeO99Y66        Secreto   \n",
       "3           3  Argentina  Paulo Londra  3vQ0GE3mI0dAaxIMYe5g7z     Adan y Eva   \n",
       "4           4  Argentina   Mau y Ricky  2wkoKEfS6dXwThbyTnZWFU   Desconocidos   \n",
       "\n",
       "                 Track ID Release Date  Popularity  Danceability  Energy  \n",
       "0  5w9c2J52mkdntKOmRLeM2m   2019-01-24          94         0.737   0.860  \n",
       "1  5iwz1NiezX7WWjnCgY5TH4   2018-10-05          96         0.826   0.773  \n",
       "2  5W83ErFkO3aKAIS1WMi6u0   2019-01-15          94         0.807   0.803  \n",
       "3  6FyRXC8tJUh863JCkyWqtk   2018-11-05          94         0.767   0.709  \n",
       "4  0s5DNDV6LAKn2u2Ufa3VjQ   2018-10-12          92         0.709   0.771  "
      ]
     },
     "execution_count": 44,
     "metadata": {},
     "output_type": "execute_result"
    }
   ],
   "source": [
    "df = pd.read_csv(\"top_50_by_country_col/output/all_countries.csv\")\n",
    "df.head()"
   ]
  },
  {
   "cell_type": "code",
   "execution_count": 80,
   "metadata": {},
   "outputs": [
    {
     "data": {
      "image/png": "[encoded data removed]",
      "text/plain": [
       "<Figure size 1440x720 with 1 Axes>"
      ]
     },
     "metadata": {
      "needs_background": "light"
     },
     "output_type": "display_data"
    }
   ],
   "source": [
    "## Create a boxplot to compare means\n",
    "df.boxplot(\"Danceability\", by = \"Country\", figsize=(20, 10),showfliers=False)\n",
    "\n",
    "plt.xlabel(\"Country\", Fontsize = 15, fontweight= \"bold\")\n",
    "plt.xticks(Fontsize = 14)\n",
    "plt.ylabel(\"Danceability Score\", Fontsize = 15, fontweight= \"bold\")\n",
    "plt.yticks(Fontsize = 14)\n",
    "plt.title(\"Danceability Per Country\", Fontsize = 25, fontweight= \"bold\")\n",
    "\n",
    "plt.show()"
   ]
  },
  {
   "cell_type": "code",
   "execution_count": 56,
   "metadata": {},
   "outputs": [],
   "source": [
    "# Extract individual groups\n",
    "\n",
    "group1 = df[df[\"Country\"] == \"Argentina\"][\"Danceability\"]\n",
    "group2 = df[df[\"Country\"] == \"Brazil\"][\"Danceability\"]\n",
    "group3 = df[df[\"Country\"] == \"Canada\"][\"Danceability\"]\n",
    "group4 = df[df[\"Country\"] == \"Columbia\"][\"Danceability\"]\n",
    "group5 = df[df[\"Country\"] == \"France\"][\"Danceability\"]\n",
    "group6 = df[df[\"Country\"] == \"Germany\"][\"Danceability\"]\n",
    "group7 = df[df[\"Country\"] == \"Indonesia\"][\"Danceability\"]\n",
    "group8 = df[df[\"Country\"] == \"Japan\"][\"Danceability\"]\n",
    "group9 = df[df[\"Country\"] == \"Phillipines\"][\"Danceability\"]\n",
    "group10 = df[df[\"Country\"] == \"South Africa\"][\"Danceability\"]\n",
    "group11 = df[df[\"Country\"] == \"UK\"][\"Danceability\"]\n",
    "group12 = df[df[\"Country\"] == \"US\"][\"Danceability\"]"
   ]
  },
  {
   "cell_type": "code",
   "execution_count": 63,
   "metadata": {},
   "outputs": [
    {
     "data": {
      "text/plain": [
       "F_onewayResult(statistic=1.1704476474982837, pvalue=0.3153573936503718)"
      ]
     },
     "execution_count": 63,
     "metadata": {},
     "output_type": "execute_result"
    }
   ],
   "source": [
    "## Perform the ANOVA for Africa, Australia, Europe, North and South America\n",
    "stats.f_oneway(group1, group2, group3, group4, group5, group6, group10, group11, group12)"
   ]
  },
  {
   "cell_type": "code",
   "execution_count": 64,
   "metadata": {},
   "outputs": [
    {
     "data": {
      "text/plain": [
       "F_onewayResult(statistic=2.932657053880007, pvalue=0.056378829607868386)"
      ]
     },
     "execution_count": 64,
     "metadata": {},
     "output_type": "execute_result"
    }
   ],
   "source": [
    "## Perform the ANOVA for Asia\n",
    "stats.f_oneway(group7, group8, group9)"
   ]
  },
  {
   "cell_type": "markdown",
   "metadata": {},
   "source": [
    "# ANOVA Analysis Conclusions"
   ]
  },
  {
   "cell_type": "markdown",
   "metadata": {},
   "source": [
    "* The test output for Africa, Australia, Europe, North and South America yields an F-statistic of 1.170 and a p-value of 0.315, indicating that there is no significant difference between the means of each group. Low statistic and p-value are indications of strong evidence against the null hypothesis.\n",
    "\n",
    "* The test output for Asian continent yields an F-statistic of 2.932 and a p-value of 0.056, indicates strong evidence against the null hypothesis.\n",
    "\n",
    "* It is also necessary to mention that danceability scores for Top 50 playlists in Asian countries are lower in general than in the rest of the world. "
   ]
  },
  {
   "cell_type": "code",
   "execution_count": null,
   "metadata": {},
   "outputs": [],
   "source": []
  }
 ],
 "metadata": {
  "kernelspec": {
   "display_name": "Python 3",
   "language": "python",
   "name": "python3"
  },
  "language_info": {
   "codemirror_mode": {
    "name": "ipython",
    "version": 3
   },
   "file_extension": ".py",
   "mimetype": "text/x-python",
   "name": "python",
   "nbconvert_exporter": "python",
   "pygments_lexer": "ipython3",
   "version": "3.6.7"
  }
 },
 "nbformat": 4,
 "nbformat_minor": 2
}
