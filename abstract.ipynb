{
 "cells": [
  {
   "cell_type": "markdown",
   "metadata": {},
   "source": [
    "# Abstract"
   ]
  },
  {
   "cell_type": "markdown",
   "metadata": {},
   "source": [
    "Spotify is an audio streaming platform launched on 7 October 2008.\n",
    "As of Febrauary 2019, 203 million Spotify's users love playing music in headphones and speakers across all continents around the world and are represented by 78 countries.\n",
    "\n",
    "In this analysis, we will look at Spotify's Top 50 songs in the most populous countries in each continent and deterimine if the playlists' popularity is correlated with their danceability, energy, and genre.\n",
    "\n",
    "Our hypothesis is if a country’s Top 50 playlist is related to the danceability of the individual songs, then a majority of the songs in each country’s list will have high danceability score.\n",
    "\n",
    "For our research we selected the following countries:\n",
    "* Africa: South Africa\n",
    "* Asia: Indonesia, Japan, Philippines\n",
    "* Australia/Oceania: Australia\n",
    "* Europe: UK, Germany, France\n",
    "* North America: US, Canada\n",
    "* South America: Brazil, Columbia, Argentina"
   ]
  }
 ],
 "metadata": {
  "kernelspec": {
   "display_name": "Python 3",
   "language": "python",
   "name": "python3"
  },
  "language_info": {
   "codemirror_mode": {
    "name": "ipython",
    "version": 3
   },
   "file_extension": ".py",
   "mimetype": "text/x-python",
   "name": "python",
   "nbconvert_exporter": "python",
   "pygments_lexer": "ipython3",
   "version": "3.6.7"
  }
 },
 "nbformat": 4,
 "nbformat_minor": 2
}
