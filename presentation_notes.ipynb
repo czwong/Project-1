{
 "cells": [
  {
   "cell_type": "markdown",
   "metadata": {},
   "source": [
    "# Presentation Notes"
   ]
  },
  {
   "cell_type": "markdown",
   "metadata": {},
   "source": [
    "* genres on spotify ( https://artists.spotify.com/blog/how-spotify-discovers-the-genres-of-tomorrow )\n",
    "* genres by country ( http://everynoise.com/countries.html )\n",
    "* population size by country UN ( https://unstats.un.org/unsd/demographic-social/products/vitstats/seratab2.pdf )"
   ]
  },
  {
   "cell_type": "markdown",
   "metadata": {},
   "source": [
    "# Data exploration and clean up process"
   ]
  },
  {
   "cell_type": "markdown",
   "metadata": {},
   "source": [
    "Describe the process here:"
   ]
  },
  {
   "cell_type": "markdown",
   "metadata": {},
   "source": [
    "# Questions about data"
   ]
  },
  {
   "cell_type": "markdown",
   "metadata": {},
   "source": [
    "1. What is song's dancibility metric?\n",
    "2. What is the avearge dancibility of 13 countries? \n",
    "3. What is the average popularity of 13 countries?\n",
    "4. What is the average playlists' dancibility (per country)?\n",
    "5. What is the average playlists' popularity (per country)?"
   ]
  },
  {
   "cell_type": "markdown",
   "metadata": {},
   "source": [
    "# Data analytics / visualization "
   ]
  },
  {
   "cell_type": "markdown",
   "metadata": {},
   "source": [
    "* for questions 2-5 we need to decide what type of data visualization we should use.\n",
    "* genre distribution per country and it's average dancibility."
   ]
  },
  {
   "cell_type": "markdown",
   "metadata": {},
   "source": [
    "# Statisitcal analysis / visualization"
   ]
  },
  {
   "cell_type": "markdown",
   "metadata": {},
   "source": [
    "* ANOVA analysis for dancibility (per country). Take mean dancibility per country and see if results are statistically significant.\n",
    "* ANOVA analysis for popularity (per country). Take mean popularity per country and see if results are statistically significant.\n",
    "* Z-test for for dancibility (per country).\n",
    "* Z-test for popularity (per country). "
   ]
  }
 ],
 "metadata": {
  "kernelspec": {
   "display_name": "Python 3",
   "language": "python",
   "name": "python3"
  },
  "language_info": {
   "codemirror_mode": {
    "name": "ipython",
    "version": 3
   },
   "file_extension": ".py",
   "mimetype": "text/x-python",
   "name": "python",
   "nbconvert_exporter": "python",
   "pygments_lexer": "ipython3",
   "version": "3.6.7"
  }
 },
 "nbformat": 4,
 "nbformat_minor": 2
}
